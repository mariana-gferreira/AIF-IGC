{
 "cells": [
  {
   "cell_type": "code",
   "execution_count": null,
   "id": "c86c53a0-c9af-4f91-b60d-8d1666feefc7",
   "metadata": {},
   "outputs": [],
   "source": [
    "import os  # Directory scan for files\n",
    "\n",
    "#Variables\n",
    "img_name_prefx = 'MAX_'\n",
    "\n",
    "# Get .tif files as list from current directory\n",
    "image_lst = [file for file in os.listdir('.') if file.endswith(\".tif\") and file.startswith(img_name_prefx) ]  \n",
    "\n",
    "for i, filename_img in enumerate(image_lst):\n",
    "    # A For loop will start here to go through all the images in the folder\n",
    "    os.rename(filename_img, \"N2V_\" + filename_img)\n"
   ]
  }
 ],
 "metadata": {
  "kernelspec": {
   "display_name": "Python 3 (ipykernel)",
   "language": "python",
   "name": "python3"
  },
  "language_info": {
   "codemirror_mode": {
    "name": "ipython",
    "version": 3
   },
   "file_extension": ".py",
   "mimetype": "text/x-python",
   "name": "python",
   "nbconvert_exporter": "python",
   "pygments_lexer": "ipython3",
   "version": "3.9.0"
  }
 },
 "nbformat": 4,
 "nbformat_minor": 5
}
