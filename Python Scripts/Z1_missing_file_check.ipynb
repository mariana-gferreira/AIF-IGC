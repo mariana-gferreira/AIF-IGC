{
 "cells": [
  {
   "cell_type": "markdown",
   "metadata": {},
   "source": [
    "### About\n",
    "* This notebook is used to determine **missing files** in time-lapse lightsheet data.\n",
    "\n",
    "### How to use\n",
    "* Insert the path to the folder to check for missing files\n",
    "* Insert the number of timepoints in the folder\n",
    "* Insert the extension of the files you want to check\n",
    "* Insert the regex pattern to find the view. example: view 4 : \"_G4.czi\" or \"_G4(1).czi\". grouping () is important\n",
    "\n",
    "### Output\n",
    "* A list of missing file names in the notebook\n",
    "\n",
    "### Advanced Imaging Facility @ IGC 2024"
   ]
  },
  {
   "cell_type": "markdown",
   "metadata": {},
   "source": [
    "### Import modules"
   ]
  },
  {
   "cell_type": "code",
   "execution_count": 1,
   "metadata": {},
   "outputs": [],
   "source": [
    "import os\n",
    "import glob\n",
    "import re\n",
    "\n",
    "def natural_sort(l): \n",
    "\n",
    "\t# from here: https://stackoverflow.com/questions/4836710/is-there-a-built-in-function-for-string-natural-sort\n",
    "\n",
    "    convert = lambda text: int(text) if text.isdigit() else text.lower()\n",
    "\n",
    "    alphanum_key = lambda key: [convert(c) for c in re.split('([0-9]+)', key)]\n",
    "\n",
    "    return sorted(l, key=alphanum_key)\n"
   ]
  },
  {
   "cell_type": "markdown",
   "metadata": {},
   "source": [
    "### Insert Variables"
   ]
  },
  {
   "cell_type": "code",
   "execution_count": 2,
   "metadata": {},
   "outputs": [],
   "source": [
    "inputdir = \"/Users/marianaferreira/Git/AIf-coding/test\" # folder to check for missing files\n",
    "number_of_timepoints = 5 #insert the maximum number between the parenthesis: e.g. for \"_G1(178).czi\" insert 178\n",
    "#If not all views in the folder have the same number of timepoints, insert the maximum number among them. \n",
    "#WARNING:This will give extra missing files for views with less timepoints.\n",
    "\n",
    "extension = \".czi\"\n",
    "pattern = \"(_G\\d+).*czi\" # regex to find the views. example: view 4 : \"_G4.czi\" or \"_G4(1).czi\". grouping () is important \n"
   ]
  },
  {
   "cell_type": "markdown",
   "metadata": {},
   "source": [
    "### Check for missing files"
   ]
  },
  {
   "cell_type": "code",
   "execution_count": 5,
   "metadata": {},
   "outputs": [
    {
     "name": "stdout",
     "output_type": "stream",
     "text": [
      "WARNING: 3 files missing!\n",
      "Run next cell to list missing files.\n"
     ]
    }
   ],
   "source": [
    "\n",
    "#Find and sort all .czi files\n",
    "files=natural_sort(glob.glob(inputdir+\"/*\"+extension))\n",
    "\n",
    "# find all identifiers for different views:\n",
    "view_identifiers=[] # will be a list of strings like : ['_G3(', '_G4('] \n",
    "\n",
    "for fn in files:\n",
    "    match=re.findall(pattern,fn)[0] # returns the 1st group, e.g. \"_G1\". should always only be one match!\n",
    "    if match not in view_identifiers:\n",
    "        view_identifiers.append(match) \n",
    "\n",
    "pretty_text=[txt[1:3] for txt in view_identifiers]\n",
    "\n",
    "files_count= len(files)\n",
    "files_count_expected=len(view_identifiers)*(number_of_timepoints+1) # number_of_timepoints\n",
    "files_count_difference=files_count_expected-files_count\n",
    "\n",
    "if(files_count_difference>0):\n",
    "    print(\"WARNING: {} files missing!\".format(files_count_expected-files_count))\n",
    "    print(\"Run next cell to list missing files.\")\n",
    "elif(files_count_difference<0):\n",
    "    print(\"WARNING: {} extra files!\".format(files_count-files_count_expected))\n",
    "    print(\"Check if the number of timepoints variable inserted is correct!\")\n",
    "else:\n",
    "    print(\"No missing files\")\n",
    "    print(\"Expected number of files: {}\\nFound number of files: {}\".format(files_count_expected,files_count))\n",
    "\n",
    " "
   ]
  },
  {
   "cell_type": "markdown",
   "metadata": {},
   "source": [
    "### List missing files"
   ]
  },
  {
   "cell_type": "code",
   "execution_count": 6,
   "metadata": {},
   "outputs": [
    {
     "name": "stdout",
     "output_type": "stream",
     "text": [
      "Found 3 missing files in the folder.\n",
      "\n",
      "Missing file names:\n",
      "testfiles_G1(3).rtf\n",
      "testfiles_G2(4).rtf\n",
      "testfiles_G2(5).rtf\n"
     ]
    }
   ],
   "source": [
    "# variables for missing files portion\n",
    "missing_files=[]\n",
    "expected_numbers=range(1,number_of_timepoints+1)\n",
    "\n",
    "# check if all files exist for each view\n",
    "for view_idx in range(len(view_identifiers)):\n",
    "    files=natural_sort(glob.glob(inputdir+\"/*\"+view_identifiers[view_idx]+\"*\"+extension))\n",
    "    identifier_numbers=[]\n",
    "\n",
    "    for fn in files:   \n",
    "        fn = fn.split(view_identifiers[view_idx]+\"(\")\n",
    "        stringsplit=fn[-1].split(\")\")\n",
    "        if(len(stringsplit)!=1):\n",
    "            identifier_numbers.append(int(stringsplit[0]))\n",
    "            basefilename = fn[0].split(\"/\")[-1]\n",
    "\n",
    "    for tp in (set(expected_numbers)-set(identifier_numbers)):\n",
    "        missing_files.append(basefilename+view_identifiers[view_idx]+\"(\"+str(tp)+\")\"+extension)\n",
    "        \n",
    "print(\"Found {} missing files in the folder.\\n\\nMissing file names:\".format(len(missing_files)))\n",
    "for i, mfn in enumerate(missing_files):\n",
    "    print(mfn)\n",
    "    \n",
    "  "
   ]
  }
 ],
 "metadata": {
  "kernelspec": {
   "display_name": "missing_file_check",
   "language": "python",
   "name": "python3"
  },
  "language_info": {
   "codemirror_mode": {
    "name": "ipython",
    "version": 3
   },
   "file_extension": ".py",
   "mimetype": "text/x-python",
   "name": "python",
   "nbconvert_exporter": "python",
   "pygments_lexer": "ipython3",
   "version": "3.11.5"
  }
 },
 "nbformat": 4,
 "nbformat_minor": 2
}
