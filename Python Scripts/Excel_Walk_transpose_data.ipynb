{
 "cells": [
  {
   "cell_type": "code",
   "execution_count": 1,
   "id": "28fd43fe-ab88-4c6f-ab0b-72b45208ac7f",
   "metadata": {},
   "outputs": [],
   "source": [
    "import os  # To scan for files\n",
    "import pandas as pd # Work with table data\n"
   ]
  },
  {
   "cell_type": "code",
   "execution_count": 2,
   "id": "b009b087-d6af-4219-afd3-cf28fbcb1cf0",
   "metadata": {},
   "outputs": [],
   "source": [
    "#Variables\n",
    "table_name_prefix = 'MyExpt_SUBSET_Cells_Image_Resize'\n",
    "centriole_count_title = 'Children_Centrioles_Count'\n",
    "track_label_title = 'TrackObjects_Label'\n",
    "image_number_title = 'ImageNumber'\n",
    "\n",
    "for path, directories, files in os.walk('.'):\n",
    "    for file in files:\n",
    "        if file.endswith(\".csv\") and file.startswith(table_name_prefix):\n",
    "            if len(path.split('\\\\')) == 3 :\n",
    "                dot, drug, letter = path.split('\\\\')\n",
    "                name_excel = drug + '.xlsx'\n",
    "                if os.path.isfile(name_excel):\n",
    "                    writer = pd.ExcelWriter(name_excel, mode = 'a')\n",
    "                else:\n",
    "                    writer = pd.ExcelWriter(name_excel)\n",
    "                \n",
    "                csv_table = pd.read_csv(os.path.join(path, file))\n",
    "                pivot = csv_table.pivot(index = image_number_title, columns = track_label_title, values = centriole_count_title)\n",
    "                df = pd.DataFrame(pivot)\n",
    "                df.to_excel(writer, sheet_name = letter)\n",
    "                writer.save()"
   ]
  },
  {
   "cell_type": "code",
   "execution_count": 3,
   "id": "a1b56ba6-5f11-4f88-a13f-5642759686d3",
   "metadata": {},
   "outputs": [
    {
     "name": "stdout",
     "output_type": "stream",
     "text": [
      "OK\n"
     ]
    }
   ],
   "source": [
    "print('OK')"
   ]
  },
  {
   "cell_type": "code",
   "execution_count": null,
   "id": "f68104e0-72ca-48df-80ca-9d745cc95813",
   "metadata": {},
   "outputs": [],
   "source": []
  }
 ],
 "metadata": {
  "kernelspec": {
   "display_name": "Python 3 (ipykernel)",
   "language": "python",
   "name": "python3"
  },
  "language_info": {
   "codemirror_mode": {
    "name": "ipython",
    "version": 3
   },
   "file_extension": ".py",
   "mimetype": "text/x-python",
   "name": "python",
   "nbconvert_exporter": "python",
   "pygments_lexer": "ipython3",
   "version": "3.9.0"
  }
 },
 "nbformat": 4,
 "nbformat_minor": 5
}
