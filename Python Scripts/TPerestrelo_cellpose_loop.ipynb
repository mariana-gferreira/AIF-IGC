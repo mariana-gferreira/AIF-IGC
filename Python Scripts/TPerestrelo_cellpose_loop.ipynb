{
 "cells": [
  {
   "cell_type": "code",
   "execution_count": 1,
   "id": "1733b38b-cb06-4696-b896-2866bdea0d04",
   "metadata": {},
   "outputs": [],
   "source": [
    "from skimage.io import imread, imshow, imsave  # Read and display images\n",
    "from skimage.transform import rescale, resize  # Rescale function for images\n",
    "import os  # Directory scan for files\n",
    "import numpy as np  # Create blank matrixes for multi-channel images\n",
    "from cellpose import models, io\n",
    "import pyclesperanto_prototype as cle"
   ]
  },
  {
   "cell_type": "code",
   "execution_count": 2,
   "id": "f6a58643-162a-4a04-9c33-350217ed9aee",
   "metadata": {},
   "outputs": [
    {
     "name": "stdout",
     "output_type": "stream",
     "text": [
      "Currently creating labels for image N2V_MAX_liveimaging - CNTB_CK_a.tif.\n",
      "..........................................................................\n",
      "Currently creating labels for image N2V_MAX_liveimaging - CNTB_CK_b.tif.\n",
      "..........................................................................\n",
      "Currently creating labels for image N2V_MAX_liveimaging - CNTB_CK_c.tif.\n",
      "..........................................................................\n",
      "Currently creating labels for image N2V_MAX_liveimaging - CNTB_CK_d.tif.\n",
      "..........................................................................\n",
      "Currently creating labels for image N2V_MAX_liveimaging - CNTB_CK_e.tif.\n",
      "..........................................................................\n",
      "Currently creating labels for image N2V_MAX_liveimaging - CNTB_DMSO_a.tif.\n",
      "..........................................................................\n",
      "Currently creating labels for image N2V_MAX_liveimaging - CNTB_DMSO_b.tif.\n",
      "..........................................................................\n",
      "Currently creating labels for image N2V_MAX_liveimaging - CNTB_DMSO_c.tif.\n",
      "..........................................................................\n",
      "Currently creating labels for image N2V_MAX_liveimaging - CNTB_DMSO_d.tif.\n",
      "..........................................................................\n",
      "Currently creating labels for image N2V_MAX_liveimaging - CNTB_DMSO_e.tif.\n",
      "..........................................................................\n",
      "Currently creating labels for image N2V_MAX_liveimaging - CNTB_SMFAF_a.tif.\n",
      "..........................................................................\n",
      "Currently creating labels for image N2V_MAX_liveimaging - CNTB_SMFAF_b.tif.\n",
      "..........................................................................\n",
      "Currently creating labels for image N2V_MAX_liveimaging - CNTB_SMFAF_c.tif.\n",
      "..........................................................................\n",
      "Currently creating labels for image N2V_MAX_liveimaging - CNTB_SMFAF_d.tif.\n",
      "..........................................................................\n",
      "Currently creating labels for image N2V_MAX_liveimaging - CNTB_SMFAF_e.tif.\n",
      "..........................................................................\n",
      "Currently creating labels for image N2V_MAX_liveimaging - CNTB_Y_a.tif.\n",
      "..........................................................................\n",
      "Currently creating labels for image N2V_MAX_liveimaging - CNTB_Y_b.tif.\n",
      "..........................................................................\n",
      "Currently creating labels for image N2V_MAX_liveimaging - CNTB_Y_c.tif.\n",
      "..........................................................................\n",
      "Currently creating labels for image N2V_MAX_liveimaging - CNTB_Y_d.tif.\n",
      "..........................................................................\n",
      "Currently creating labels for image N2V_MAX_liveimaging - CNTB_Y_e.tif.\n",
      "..........................................................................\n",
      "Currently creating labels for image N2V_MAX_liveimaging - DMSO_CK_a.tif.\n",
      "..........................................................................\n",
      "Currently creating labels for image N2V_MAX_liveimaging - DMSO_CK_b.tif.\n",
      "..........................................................................\n",
      "Currently creating labels for image N2V_MAX_liveimaging - DMSO_CK_c.tif.\n",
      "..........................................................................\n",
      "Currently creating labels for image N2V_MAX_liveimaging - DMSO_CK_d.tif.\n",
      "..........................................................................\n",
      "Currently creating labels for image N2V_MAX_liveimaging - DMSO_CK_e.tif.\n",
      "..........................................................................\n",
      "Currently creating labels for image N2V_MAX_liveimaging - DMSO_DMSO_a.tif.\n",
      "..........................................................................\n",
      "Currently creating labels for image N2V_MAX_liveimaging - DMSO_DMSO_b.tif.\n",
      "..........................................................................\n",
      "Currently creating labels for image N2V_MAX_liveimaging - DMSO_DMSO_c.tif.\n",
      "..........................................................................\n",
      "Currently creating labels for image N2V_MAX_liveimaging - DMSO_DMSO_d.tif.\n",
      "..........................................................................\n",
      "Currently creating labels for image N2V_MAX_liveimaging - DMSO_DMSO_e.tif.\n",
      "..........................................................................\n",
      "Currently creating labels for image N2V_MAX_liveimaging - DMSO_SMFAF_a.tif.\n",
      "..........................................................................\n",
      "Currently creating labels for image N2V_MAX_liveimaging - DMSO_SMFAF_b.tif.\n",
      "..........................................................................\n",
      "Currently creating labels for image N2V_MAX_liveimaging - DMSO_SMFAF_c.tif.\n",
      "..........................................................................\n",
      "Currently creating labels for image N2V_MAX_liveimaging - DMSO_SMFAF_d.tif.\n",
      "..........................................................................\n",
      "Currently creating labels for image N2V_MAX_liveimaging - DMSO_SMFAF_e.tif.\n",
      "..........................................................................\n",
      "Currently creating labels for image N2V_MAX_liveimaging - DMSO_Y_a.tif.\n",
      "................"
     ]
    },
    {
     "name": "stderr",
     "output_type": "stream",
     "text": [
      "WARNING: no mask pixels found\n"
     ]
    },
    {
     "name": "stdout",
     "output_type": "stream",
     "text": [
      "..."
     ]
    },
    {
     "name": "stderr",
     "output_type": "stream",
     "text": [
      "WARNING: no mask pixels found\n"
     ]
    },
    {
     "name": "stdout",
     "output_type": "stream",
     "text": [
      ".."
     ]
    },
    {
     "name": "stderr",
     "output_type": "stream",
     "text": [
      "WARNING: no mask pixels found\n"
     ]
    },
    {
     "name": "stdout",
     "output_type": "stream",
     "text": [
      "..."
     ]
    },
    {
     "name": "stderr",
     "output_type": "stream",
     "text": [
      "WARNING: no mask pixels found\n"
     ]
    },
    {
     "name": "stdout",
     "output_type": "stream",
     "text": [
      "...."
     ]
    },
    {
     "name": "stderr",
     "output_type": "stream",
     "text": [
      "WARNING: no mask pixels found\n"
     ]
    },
    {
     "name": "stdout",
     "output_type": "stream",
     "text": [
      "............"
     ]
    },
    {
     "name": "stderr",
     "output_type": "stream",
     "text": [
      "WARNING: no mask pixels found\n"
     ]
    },
    {
     "name": "stdout",
     "output_type": "stream",
     "text": [
      ".........................."
     ]
    },
    {
     "name": "stderr",
     "output_type": "stream",
     "text": [
      "WARNING: no mask pixels found\n"
     ]
    },
    {
     "name": "stdout",
     "output_type": "stream",
     "text": [
      "......."
     ]
    },
    {
     "name": "stderr",
     "output_type": "stream",
     "text": [
      "C:\\Users\\marianaferreira\\AppData\\Local\\Temp\\ipykernel_3644\\1116437157.py:63: UserWarning: LABEL_IMAGE__CP_N2V_MAX_liveimaging - DMSO_Y_a.tif is a low contrast image\n",
      "  imsave(save_name_prefix + '_CP_' + filename_img, scaled_mask, imagej = True)\n"
     ]
    },
    {
     "name": "stdout",
     "output_type": "stream",
     "text": [
      ".\n",
      "Currently creating labels for image N2V_MAX_liveimaging - DMSO_Y_b.tif.\n",
      "..........................................................................\n",
      "Currently creating labels for image N2V_MAX_liveimaging - DMSO_Y_c.tif.\n",
      "..........................................................................\n",
      "Currently creating labels for image N2V_MAX_liveimaging - DMSO_Y_d.tif.\n",
      "..........................................................................\n",
      "Currently creating labels for image N2V_MAX_liveimaging - DMSO_Y_e.tif.\n",
      "..........................................................................\n"
     ]
    }
   ],
   "source": [
    "# Static variables\n",
    "downscale = 0.4\n",
    "channels = [0,0]\n",
    "model_cp = models.Cellpose(gpu=False, model_type='cyto')\n",
    "#model_cp = models.CellposeModel(model_type='CP')  # ALternative cellpose model\n",
    "diameter = 30\n",
    "save_name_prefix = 'LABEL_IMAGE_'\n",
    "img_name_prefx = 'N2V_'\n",
    "\n",
    "# Get .sld files as list from current directory\n",
    "image_lst = [file for file in os.listdir('.') if file.endswith(\".tif\") and file.startswith(img_name_prefx) ]  \n",
    "\n",
    "for i, filename_img in enumerate(image_lst):\n",
    "    # A For loop will start here to go through all the images in the folder\n",
    "    original_img = imread(filename_img) # Reads one image for testing purposes\n",
    "\n",
    "    # Store image dimensions in variables [8, 2, 1200, 1200] for [slices, channels, height, width]\n",
    "    stack_dim = original_img.shape[0]\n",
    "    height_dim = original_img.shape[-2]  # gets second to last item from list\n",
    "    width_dim = original_img.shape[-1]  # gets last item from list\n",
    "\n",
    "    height_dim_scaled = int(np.ceil(height_dim * downscale))\n",
    "    width_dim_scaled = int(np.ceil(width_dim * downscale))\n",
    "\n",
    "    # Blank matrixes\n",
    "    scaled_img = np.zeros((stack_dim, height_dim_scaled, width_dim_scaled), dtype = 'float32')\n",
    "    scaled_mask = np.zeros((stack_dim, height_dim_scaled, width_dim_scaled), dtype = 'float32')\n",
    "\n",
    "    # Loop to rescale original image and store it as a matrix\n",
    "    # Uses scikit rescale to downsample image so the structures of interest end with 30 px diam\n",
    "    # Rescaled image is in normalized (0-1) float64, is multiplied by 255 to allow retyping to unint8\n",
    "    # Once back at uint8 it is stored in a matrix\n",
    "    for stack_pos in range(stack_dim):\n",
    "        scaled_1 = rescale(original_img[stack_pos, :, :], downscale, anti_aliasing = True)\n",
    "        # scaled_2 = scaled_1 * 255\n",
    "        # scaled_3 = scaled_2.astype('uint8')\n",
    "        scaled_img[stack_pos, :, :] = scaled_1\n",
    "        \n",
    "        #cle.imshow(scaled_img[stack_pos,:,:])\n",
    "\n",
    "    # show = imshow(scaled_img[0, :, :])\n",
    "    \n",
    "    \n",
    "    # Print to track analysis progress\n",
    "    print(f\"Currently creating labels for image {filename_img}.\")\n",
    "    \n",
    "    # Loop to test several diameter for cellpose model 2 by 2 from 20 to 34\n",
    "    for stack_pos in range(stack_dim):\n",
    "        # Print to track analysis progress\n",
    "        # print( str(stack_pos + 1).zfill(3) + ' of ' + str(stack_dim).zfill(3) + \" of image \" + filename_img)\n",
    "        print('.', end='')\n",
    "\n",
    "        # run cellpose model\n",
    "        label_image, flows, styles, diams = model_cp.eval(scaled_img[stack_pos, :, :], diameter = diameter, channels = channels)\n",
    "        #label_image, flows, styles = model_cp.eval(scaled_img[stack_pos, :, :], diameter = diameter, channels = channels) # Alternative cellpose model\n",
    "\n",
    "        # store mask result in multychannel matrix for saving\n",
    "        scaled_mask[stack_pos, :, :] = label_image\n",
    "        \n",
    "        # cle.imshow(scaled_mask[stack_pos,:,:], labels=True)\n",
    "\n",
    "    # save both images\n",
    "    imsave(save_name_prefix + '_CP_' + filename_img, scaled_mask, imagej = True)\n",
    "    # imsave('scaled_img.tif', scaled_img, imagej = True)\n",
    "    print('.')\n",
    "    # print('-----')\n",
    "    "
   ]
  },
  {
   "cell_type": "code",
   "execution_count": 3,
   "id": "f6efe5fd-d4e6-41bc-9dcb-ff0c5a2fc9e4",
   "metadata": {},
   "outputs": [
    {
     "name": "stdout",
     "output_type": "stream",
     "text": [
      "OK?\n"
     ]
    }
   ],
   "source": [
    "print('OK?')"
   ]
  }
 ],
 "metadata": {
  "kernelspec": {
   "display_name": "Python 3 (ipykernel)",
   "language": "python",
   "name": "python3"
  },
  "language_info": {
   "codemirror_mode": {
    "name": "ipython",
    "version": 3
   },
   "file_extension": ".py",
   "mimetype": "text/x-python",
   "name": "python",
   "nbconvert_exporter": "python",
   "pygments_lexer": "ipython3",
   "version": "3.9.0"
  }
 },
 "nbformat": 4,
 "nbformat_minor": 5
}
